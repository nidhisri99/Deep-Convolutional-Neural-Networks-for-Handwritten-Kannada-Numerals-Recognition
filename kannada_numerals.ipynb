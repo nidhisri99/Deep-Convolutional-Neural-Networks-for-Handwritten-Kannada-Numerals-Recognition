{
  "nbformat": 4,
  "nbformat_minor": 0,
  "metadata": {
    "colab": {
      "name": "kannada_numerals.ipynb",
      "provenance": [],
      "collapsed_sections": []
    },
    "kernelspec": {
      "name": "python3",
      "display_name": "Python 3"
    },
    "accelerator": "GPU"
  },
  "cells": [
    {
      "cell_type": "code",
      "metadata": {
        "id": "IOy0GDLcjfPY",
        "colab_type": "code",
        "colab": {
          "base_uri": "https://localhost:8080/",
          "height": 52
        },
        "outputId": "13a325de-7152-4fd1-8a9e-05ff41db80ad"
      },
      "source": [
        "import glob\n",
        "import cv2\n",
        "import matplotlib.pyplot as plt\n",
        "import numpy as np\n",
        "import os\n",
        "%tensorflow_version 1.x\n",
        "import pandas as pd\n",
        "import tensorflow as tf\n",
        "from sklearn.model_selection import train_test_split\n",
        "from keras import optimizers,Model\n",
        "from sklearn.metrics import accuracy_score"
      ],
      "execution_count": null,
      "outputs": [
        {
          "output_type": "stream",
          "text": [
            "TensorFlow 1.x selected.\n"
          ],
          "name": "stdout"
        },
        {
          "output_type": "stream",
          "text": [
            "Using TensorFlow backend.\n"
          ],
          "name": "stderr"
        }
      ]
    },
    {
      "cell_type": "code",
      "metadata": {
        "id": "ruOIDD7pjqL7",
        "colab_type": "code",
        "colab": {
          "base_uri": "https://localhost:8080/",
          "height": 34
        },
        "outputId": "4580290c-9796-44a3-e596-ac03409edb9d"
      },
      "source": [
        "from google.colab import drive\n",
        "drive.mount('/content/drive')"
      ],
      "execution_count": null,
      "outputs": [
        {
          "output_type": "stream",
          "text": [
            "Drive already mounted at /content/drive; to attempt to forcibly remount, call drive.mount(\"/content/drive\", force_remount=True).\n"
          ],
          "name": "stdout"
        }
      ]
    },
    {
      "cell_type": "code",
      "metadata": {
        "id": "_xHs3FvZjqPY",
        "colab_type": "code",
        "colab": {}
      },
      "source": [
        "x_dig=np.load('/content/drive/My Drive/Kannada_MNIST_npz/Dig_MNIST/X_dig_MNIST.npz')\n",
        "x_dig=x_dig['arr_0']\n",
        "y_dig=np.load('/content/drive/My Drive/Kannada_MNIST_npz/Dig_MNIST/y_dig_MNIST.npz')\n",
        "y_dig=y_dig['arr_0']"
      ],
      "execution_count": null,
      "outputs": []
    },
    {
      "cell_type": "code",
      "metadata": {
        "id": "hnjYKglEy3Z7",
        "colab_type": "code",
        "colab": {
          "base_uri": "https://localhost:8080/",
          "height": 52
        },
        "outputId": "6233b7db-cbef-42df-b604-7ae86728544b"
      },
      "source": [
        "print(x_dig.shape)\n",
        "print(y_dig.shape)"
      ],
      "execution_count": null,
      "outputs": [
        {
          "output_type": "stream",
          "text": [
            "(10240, 28, 28)\n",
            "(10240,)\n"
          ],
          "name": "stdout"
        }
      ]
    },
    {
      "cell_type": "code",
      "metadata": {
        "id": "hcS1ROj7wIO7",
        "colab_type": "code",
        "colab": {}
      },
      "source": [
        "x_test=np.load('/content/drive/My Drive/Kannada_MNIST_npz/Kannada_MNIST/X_kannada_MNIST_test.npz')\n",
        "x_test=x_test['arr_0']\n",
        "x_train=np.load('/content/drive/My Drive/Kannada_MNIST_npz/Kannada_MNIST/X_kannada_MNIST_train.npz')\n",
        "x_train=x_train['arr_0']\n",
        "y_test=np.load('/content/drive/My Drive/Kannada_MNIST_npz/Kannada_MNIST/y_kannada_MNIST_test.npz')\n",
        "y_test=y_test['arr_0']\n",
        "y_train=np.load('/content/drive/My Drive/Kannada_MNIST_npz/Kannada_MNIST/y_kannada_MNIST_train.npz')\n",
        "y_train=y_train['arr_0']"
      ],
      "execution_count": null,
      "outputs": []
    },
    {
      "cell_type": "code",
      "metadata": {
        "id": "xqVFuYH8xNlC",
        "colab_type": "code",
        "colab": {
          "base_uri": "https://localhost:8080/",
          "height": 87
        },
        "outputId": "86bc99a7-b1da-4634-ab55-fc149b930fd0"
      },
      "source": [
        "print(x_train.shape)\n",
        "print(x_test.shape)\n",
        "print(y_train.shape)\n",
        "print(y_test.shape)"
      ],
      "execution_count": null,
      "outputs": [
        {
          "output_type": "stream",
          "text": [
            "(60000, 28, 28)\n",
            "(10000, 28, 28)\n",
            "(60000,)\n",
            "(10000,)\n"
          ],
          "name": "stdout"
        }
      ]
    },
    {
      "cell_type": "code",
      "metadata": {
        "id": "cPR_sX5k1wy3",
        "colab_type": "code",
        "colab": {}
      },
      "source": [
        "x_train=x_train/255\n",
        "x_test=x_test/255\n",
        "x_dig=x_dig/255"
      ],
      "execution_count": null,
      "outputs": []
    },
    {
      "cell_type": "code",
      "metadata": {
        "id": "eu7i0FLrsylb",
        "colab_type": "code",
        "colab": {}
      },
      "source": [
        "from sklearn.utils import shuffle\n",
        "x_train,y_train=shuffle(x_train,y_train,random_state=42)"
      ],
      "execution_count": null,
      "outputs": []
    },
    {
      "cell_type": "code",
      "metadata": {
        "id": "PAbCmb2qek0d",
        "colab_type": "code",
        "colab": {}
      },
      "source": [
        "x_train,x_val,y_train,y_val=train_test_split(x_train,y_train,test_size=0.1,random_state=42)"
      ],
      "execution_count": null,
      "outputs": []
    },
    {
      "cell_type": "code",
      "metadata": {
        "id": "AOrvoF8OzS8p",
        "colab_type": "code",
        "colab": {}
      },
      "source": [
        "x_train=np.expand_dims(x_train,axis=3)\n",
        "x_val=np.expand_dims(x_val,axis=3)\n",
        "x_test=np.expand_dims(x_test,axis=3)\n",
        "x_dig=np.expand_dims(x_dig,axis=3)"
      ],
      "execution_count": null,
      "outputs": []
    },
    {
      "cell_type": "code",
      "metadata": {
        "id": "ubKxnp7zziCq",
        "colab_type": "code",
        "colab": {
          "base_uri": "https://localhost:8080/",
          "height": 87
        },
        "outputId": "bbbab14c-c1e4-4c72-c876-631322acd611"
      },
      "source": [
        "print(x_train.shape)\n",
        "print(x_test.shape)\n",
        "print(x_dig.shape)\n",
        "print(x_val.shape)"
      ],
      "execution_count": null,
      "outputs": [
        {
          "output_type": "stream",
          "text": [
            "(54000, 28, 28, 1)\n",
            "(10000, 28, 28, 1)\n",
            "(10240, 28, 28, 1)\n",
            "(6000, 28, 28, 1)\n"
          ],
          "name": "stdout"
        }
      ]
    },
    {
      "cell_type": "code",
      "metadata": {
        "id": "Ik6EAAWBjqf1",
        "colab_type": "code",
        "colab": {
          "base_uri": "https://localhost:8080/",
          "height": 70
        },
        "outputId": "53252a01-d6a9-4597-ac3c-f6801349bee8"
      },
      "source": [
        "from keras.utils import to_categorical\n",
        "y_train = to_categorical(y_train, 10) \n",
        "y_test = to_categorical(y_test,10)\n",
        "y_dig= to_categorical(y_dig,10)\n",
        "y_val=to_categorical(y_val,10)\n",
        "print(y_train.shape)\n",
        "print(y_test.shape)\n",
        "print(y_dig.shape)"
      ],
      "execution_count": null,
      "outputs": [
        {
          "output_type": "stream",
          "text": [
            "(54000, 10)\n",
            "(10000, 10)\n",
            "(10240, 10)\n"
          ],
          "name": "stdout"
        }
      ]
    },
    {
      "cell_type": "code",
      "metadata": {
        "id": "_e--JGZUdnzS",
        "colab_type": "code",
        "colab": {}
      },
      "source": [
        "from sklearn.utils import shuffle\n",
        "x_train,y_train=shuffle(x_train,y_train)\n",
        "x_val,y_val=shuffle(x_val,y_val)"
      ],
      "execution_count": null,
      "outputs": []
    },
    {
      "cell_type": "code",
      "metadata": {
        "id": "fQL8oldH2PX2",
        "colab_type": "code",
        "colab": {}
      },
      "source": [
        "from keras.preprocessing.image import ImageDataGenerator\n",
        "imggen=ImageDataGenerator(rotation_range=10,width_shift_range=0.25,height_shift_range=0.25,shear_range=0.1,zoom_range=0.25)"
      ],
      "execution_count": null,
      "outputs": []
    },
    {
      "cell_type": "code",
      "metadata": {
        "id": "2zqYm0mSjqtr",
        "colab_type": "code",
        "colab": {
          "base_uri": "https://localhost:8080/",
          "height": 125
        },
        "outputId": "6487904f-55f6-4380-9dc7-0a58599b9474"
      },
      "source": [
        "from keras.models import Sequential\n",
        "from keras.layers import Activation,Dense,Conv2D,Dropout,Flatten,MaxPooling2D,BatchNormalization,AveragePooling2D,GlobalMaxPooling2D,ZeroPadding2D\n",
        "\n",
        "model=Sequential()\n",
        "\n",
        "\n",
        "model.add(ZeroPadding2D(padding=(1,1),input_shape=(28,28,1)))\n",
        "model.add(Conv2D(filters=32,kernel_size=(3,3),input_shape=(28,28,1),padding='same',activation='relu'))  \n",
        "model.add(ZeroPadding2D(padding=(1,1)))\n",
        "model.add(Conv2D(filters=32,kernel_size=(3,3),padding='same',activation='relu'))\n",
        "model.add(MaxPooling2D(pool_size=(3,3)))\n",
        "model.add(Dropout(0.2))\n",
        "\n",
        "model.add(ZeroPadding2D(padding=(1,1)))\n",
        "model.add(Conv2D(filters=64,kernel_size=(3,3),padding='same',activation='relu'))  \n",
        "model.add(ZeroPadding2D(padding=(1,1)))\n",
        "model.add(Conv2D(filters=64,kernel_size=(3,3),padding='same',activation='relu'))\n",
        "#model.add(BatchNormalization(axis=1))\n",
        "model.add(MaxPooling2D(pool_size=(3,3)))\n",
        "model.add(Dropout(0.2))\n",
        "\n",
        "model.add(ZeroPadding2D(padding=(1,1)))\n",
        "model.add(Conv2D(filters=128,kernel_size=(3,3),padding='same',activation='relu'))\n",
        "model.add(ZeroPadding2D(padding=(1,1)))\n",
        "model.add(Conv2D(filters=128,kernel_size=(3,3),padding='same',activation='relu'))\n",
        "#model.add(BatchNormalization(axis=1))\n",
        "model.add(MaxPooling2D(pool_size=(3,3)))\n",
        "model.add(Dropout(0.25))\n",
        "\n",
        "model.add(ZeroPadding2D(padding=(1,1)))\n",
        "model.add(Conv2D(filters=256,kernel_size=(3,3),padding='same',activation='relu'))\n",
        "model.add(ZeroPadding2D(padding=(1,1)))\n",
        "model.add(Conv2D(filters=256,kernel_size=(3,3),padding='same',activation='relu'))\n",
        "#model.add(BatchNormalization(axis=1))\n",
        "model.add(MaxPooling2D((3,3))) #Same as Maxpool2D\n",
        "model.add(Dropout(0.25))\n",
        "\n",
        "\n",
        "model.add(Flatten())\n",
        "model.add(Dense(1024,activation='relu'))\n",
        "model.add(Dropout(0.5))\n",
        "#model.add(Dense(512,activation='relu'))\n",
        "#model.add(Dropout(0.5))\n",
        "model.add(Dense(10,activation='softmax'))"
      ],
      "execution_count": null,
      "outputs": [
        {
          "output_type": "stream",
          "text": [
            "WARNING:tensorflow:From /tensorflow-1.15.2/python3.6/tensorflow_core/python/ops/resource_variable_ops.py:1630: calling BaseResourceVariable.__init__ (from tensorflow.python.ops.resource_variable_ops) with constraint is deprecated and will be removed in a future version.\n",
            "Instructions for updating:\n",
            "If using Keras pass *_constraint arguments to layers.\n",
            "WARNING:tensorflow:From /usr/local/lib/python3.6/dist-packages/keras/backend/tensorflow_backend.py:4070: The name tf.nn.max_pool is deprecated. Please use tf.nn.max_pool2d instead.\n",
            "\n"
          ],
          "name": "stdout"
        }
      ]
    },
    {
      "cell_type": "code",
      "metadata": {
        "id": "iIzI7s1djqw4",
        "colab_type": "code",
        "colab": {
          "base_uri": "https://localhost:8080/",
          "height": 1000
        },
        "outputId": "8ee9745e-3be4-46bd-b27c-86ed249c14fb"
      },
      "source": [
        "model.compile(loss='categorical_crossentropy',optimizer=optimizers.Adam(lr=0.0001),metrics=['accuracy'])\n",
        "model.summary()"
      ],
      "execution_count": null,
      "outputs": [
        {
          "output_type": "stream",
          "text": [
            "Model: \"sequential_1\"\n",
            "_________________________________________________________________\n",
            "Layer (type)                 Output Shape              Param #   \n",
            "=================================================================\n",
            "zero_padding2d_1 (ZeroPaddin (None, 30, 30, 1)         0         \n",
            "_________________________________________________________________\n",
            "conv2d_1 (Conv2D)            (None, 30, 30, 32)        320       \n",
            "_________________________________________________________________\n",
            "zero_padding2d_2 (ZeroPaddin (None, 32, 32, 32)        0         \n",
            "_________________________________________________________________\n",
            "conv2d_2 (Conv2D)            (None, 32, 32, 32)        9248      \n",
            "_________________________________________________________________\n",
            "max_pooling2d_1 (MaxPooling2 (None, 10, 10, 32)        0         \n",
            "_________________________________________________________________\n",
            "dropout_1 (Dropout)          (None, 10, 10, 32)        0         \n",
            "_________________________________________________________________\n",
            "zero_padding2d_3 (ZeroPaddin (None, 12, 12, 32)        0         \n",
            "_________________________________________________________________\n",
            "conv2d_3 (Conv2D)            (None, 12, 12, 64)        18496     \n",
            "_________________________________________________________________\n",
            "zero_padding2d_4 (ZeroPaddin (None, 14, 14, 64)        0         \n",
            "_________________________________________________________________\n",
            "conv2d_4 (Conv2D)            (None, 14, 14, 64)        36928     \n",
            "_________________________________________________________________\n",
            "max_pooling2d_2 (MaxPooling2 (None, 4, 4, 64)          0         \n",
            "_________________________________________________________________\n",
            "dropout_2 (Dropout)          (None, 4, 4, 64)          0         \n",
            "_________________________________________________________________\n",
            "zero_padding2d_5 (ZeroPaddin (None, 6, 6, 64)          0         \n",
            "_________________________________________________________________\n",
            "conv2d_5 (Conv2D)            (None, 6, 6, 128)         73856     \n",
            "_________________________________________________________________\n",
            "zero_padding2d_6 (ZeroPaddin (None, 8, 8, 128)         0         \n",
            "_________________________________________________________________\n",
            "conv2d_6 (Conv2D)            (None, 8, 8, 128)         147584    \n",
            "_________________________________________________________________\n",
            "max_pooling2d_3 (MaxPooling2 (None, 2, 2, 128)         0         \n",
            "_________________________________________________________________\n",
            "dropout_3 (Dropout)          (None, 2, 2, 128)         0         \n",
            "_________________________________________________________________\n",
            "zero_padding2d_7 (ZeroPaddin (None, 4, 4, 128)         0         \n",
            "_________________________________________________________________\n",
            "conv2d_7 (Conv2D)            (None, 4, 4, 256)         295168    \n",
            "_________________________________________________________________\n",
            "zero_padding2d_8 (ZeroPaddin (None, 6, 6, 256)         0         \n",
            "_________________________________________________________________\n",
            "conv2d_8 (Conv2D)            (None, 6, 6, 256)         590080    \n",
            "_________________________________________________________________\n",
            "max_pooling2d_4 (MaxPooling2 (None, 2, 2, 256)         0         \n",
            "_________________________________________________________________\n",
            "dropout_4 (Dropout)          (None, 2, 2, 256)         0         \n",
            "_________________________________________________________________\n",
            "flatten_1 (Flatten)          (None, 1024)              0         \n",
            "_________________________________________________________________\n",
            "dense_1 (Dense)              (None, 1024)              1049600   \n",
            "_________________________________________________________________\n",
            "dropout_5 (Dropout)          (None, 1024)              0         \n",
            "_________________________________________________________________\n",
            "dense_2 (Dense)              (None, 10)                10250     \n",
            "=================================================================\n",
            "Total params: 2,231,530\n",
            "Trainable params: 2,231,530\n",
            "Non-trainable params: 0\n",
            "_________________________________________________________________\n"
          ],
          "name": "stdout"
        }
      ]
    },
    {
      "cell_type": "code",
      "metadata": {
        "id": "RIrpD9Xrjqzg",
        "colab_type": "code",
        "colab": {
          "base_uri": "https://localhost:8080/",
          "height": 783
        },
        "outputId": "f400af75-6ea1-4cfc-b925-f98998f1e622"
      },
      "source": [
        "history=model.fit_generator(imggen.flow(x_train,y_train,batch_size=64),epochs=20,validation_data=imggen.flow(x_val,y_val,batch_size=32))"
      ],
      "execution_count": null,
      "outputs": [
        {
          "output_type": "stream",
          "text": [
            "WARNING:tensorflow:From /usr/local/lib/python3.6/dist-packages/keras/backend/tensorflow_backend.py:422: The name tf.global_variables is deprecated. Please use tf.compat.v1.global_variables instead.\n",
            "\n",
            "Epoch 1/20\n",
            "844/844 [==============================] - 43s 51ms/step - loss: 1.1874 - accuracy: 0.5569 - val_loss: 0.5039 - val_accuracy: 0.8237\n",
            "Epoch 2/20\n",
            "844/844 [==============================] - 36s 43ms/step - loss: 0.4629 - accuracy: 0.8490 - val_loss: 0.2056 - val_accuracy: 0.9093\n",
            "Epoch 3/20\n",
            "844/844 [==============================] - 37s 44ms/step - loss: 0.2715 - accuracy: 0.9114 - val_loss: 0.1175 - val_accuracy: 0.9513\n",
            "Epoch 4/20\n",
            "844/844 [==============================] - 37s 44ms/step - loss: 0.2007 - accuracy: 0.9341 - val_loss: 0.1931 - val_accuracy: 0.9595\n",
            "Epoch 5/20\n",
            "844/844 [==============================] - 36s 43ms/step - loss: 0.1688 - accuracy: 0.9454 - val_loss: 0.0175 - val_accuracy: 0.9667\n",
            "Epoch 6/20\n",
            "844/844 [==============================] - 36s 43ms/step - loss: 0.1481 - accuracy: 0.9522 - val_loss: 0.1786 - val_accuracy: 0.9653\n",
            "Epoch 7/20\n",
            "844/844 [==============================] - 37s 43ms/step - loss: 0.1283 - accuracy: 0.9585 - val_loss: 0.2643 - val_accuracy: 0.9738\n",
            "Epoch 8/20\n",
            "844/844 [==============================] - 36s 43ms/step - loss: 0.1170 - accuracy: 0.9616 - val_loss: 0.0014 - val_accuracy: 0.9785\n",
            "Epoch 9/20\n",
            "844/844 [==============================] - 36s 43ms/step - loss: 0.1056 - accuracy: 0.9660 - val_loss: 0.0270 - val_accuracy: 0.9743\n",
            "Epoch 10/20\n",
            "844/844 [==============================] - 37s 44ms/step - loss: 0.0997 - accuracy: 0.9689 - val_loss: 0.0545 - val_accuracy: 0.9800\n",
            "Epoch 11/20\n",
            "844/844 [==============================] - 37s 43ms/step - loss: 0.0965 - accuracy: 0.9685 - val_loss: 0.0095 - val_accuracy: 0.9805\n",
            "Epoch 12/20\n",
            "844/844 [==============================] - 37s 44ms/step - loss: 0.0875 - accuracy: 0.9716 - val_loss: 0.0051 - val_accuracy: 0.9813\n",
            "Epoch 13/20\n",
            "844/844 [==============================] - 37s 43ms/step - loss: 0.0832 - accuracy: 0.9735 - val_loss: 0.2294 - val_accuracy: 0.9825\n",
            "Epoch 14/20\n",
            "844/844 [==============================] - 37s 43ms/step - loss: 0.0796 - accuracy: 0.9745 - val_loss: 0.0034 - val_accuracy: 0.9835\n",
            "Epoch 15/20\n",
            "844/844 [==============================] - 37s 44ms/step - loss: 0.0762 - accuracy: 0.9756 - val_loss: 0.0122 - val_accuracy: 0.9850\n",
            "Epoch 16/20\n",
            "844/844 [==============================] - 37s 43ms/step - loss: 0.0723 - accuracy: 0.9763 - val_loss: 0.0022 - val_accuracy: 0.9842\n",
            "Epoch 17/20\n",
            "844/844 [==============================] - 36s 43ms/step - loss: 0.0710 - accuracy: 0.9766 - val_loss: 0.0110 - val_accuracy: 0.9868\n",
            "Epoch 18/20\n",
            "844/844 [==============================] - 37s 43ms/step - loss: 0.0694 - accuracy: 0.9775 - val_loss: 0.0011 - val_accuracy: 0.9897\n",
            "Epoch 19/20\n",
            "844/844 [==============================] - 36s 43ms/step - loss: 0.0635 - accuracy: 0.9797 - val_loss: 9.9639e-04 - val_accuracy: 0.9850\n",
            "Epoch 20/20\n",
            "844/844 [==============================] - 36s 43ms/step - loss: 0.0643 - accuracy: 0.9799 - val_loss: 0.0169 - val_accuracy: 0.9860\n"
          ],
          "name": "stdout"
        }
      ]
    },
    {
      "cell_type": "code",
      "metadata": {
        "id": "0vkaCRIChPdy",
        "colab_type": "code",
        "colab": {
          "base_uri": "https://localhost:8080/",
          "height": 294
        },
        "outputId": "f34ca28b-7c93-46db-b636-ffd0885ef4a3"
      },
      "source": [
        "plt.plot(history.history['accuracy'])\n",
        "plt.plot(history.history['val_accuracy'])\n",
        "plt.title('model accuracy')\n",
        "plt.ylabel('accuracy')\n",
        "plt.xlabel('epoch')\n",
        "plt.legend(['train', 'val'], loc='right')\n",
        "plt.show()"
      ],
      "execution_count": null,
      "outputs": [
        {
          "output_type": "display_data",
          "data": {
            "image/png": "[encoded data removed]",
            "text/plain": [
              "<Figure size 432x288 with 1 Axes>"
            ]
          },
          "metadata": {
            "tags": [],
            "needs_background": "light"
          }
        }
      ]
    },
    {
      "cell_type": "code",
      "metadata": {
        "id": "OXHVncZxhPhx",
        "colab_type": "code",
        "colab": {
          "base_uri": "https://localhost:8080/",
          "height": 294
        },
        "outputId": "52396106-21f7-4444-8dd7-61c010ebdb37"
      },
      "source": [
        "plt.plot(history.history['loss'])\n",
        "plt.plot(history.history['val_loss'])\n",
        "plt.title('model loss')\n",
        "plt.ylabel('loss')\n",
        "plt.xlabel('epoch')\n",
        "plt.legend(['train', 'val'], loc='upper right')\n",
        "plt.show()"
      ],
      "execution_count": null,
      "outputs": [
        {
          "output_type": "display_data",
          "data": {
            "image/png": "[encoded data removed]",
            "text/plain": [
              "<Figure size 432x288 with 1 Axes>"
            ]
          },
          "metadata": {
            "tags": [],
            "needs_background": "light"
          }
        }
      ]
    },
    {
      "cell_type": "code",
      "metadata": {
        "id": "VgsWVM1kjq2C",
        "colab_type": "code",
        "colab": {}
      },
      "source": [
        "model.save('/content/drive/My Drive/kannadanumeral(Save).h5')\n",
        "#model.save_weights('/content/drive/My Drive/kannadanumerals_weightsmain1.h5')"
      ],
      "execution_count": null,
      "outputs": []
    },
    {
      "cell_type": "code",
      "metadata": {
        "id": "NNME6X67kYpE",
        "colab_type": "code",
        "colab": {
          "base_uri": "https://localhost:8080/",
          "height": 161
        },
        "outputId": "8b5c5cf1-57a0-4318-c361-21d3fee91118"
      },
      "source": [
        "from keras.models import load_model\n",
        "model=load_model('/content/drive/My Drive/kannadanumeral(Save).h5')"
      ],
      "execution_count": null,
      "outputs": [
        {
          "output_type": "stream",
          "text": [
            "WARNING:tensorflow:From /tensorflow-1.15.2/python3.6/tensorflow_core/python/ops/resource_variable_ops.py:1630: calling BaseResourceVariable.__init__ (from tensorflow.python.ops.resource_variable_ops) with constraint is deprecated and will be removed in a future version.\n",
            "Instructions for updating:\n",
            "If using Keras pass *_constraint arguments to layers.\n",
            "WARNING:tensorflow:From /usr/local/lib/python3.6/dist-packages/keras/backend/tensorflow_backend.py:4070: The name tf.nn.max_pool is deprecated. Please use tf.nn.max_pool2d instead.\n",
            "\n",
            "WARNING:tensorflow:From /usr/local/lib/python3.6/dist-packages/keras/backend/tensorflow_backend.py:422: The name tf.global_variables is deprecated. Please use tf.compat.v1.global_variables instead.\n",
            "\n"
          ],
          "name": "stdout"
        }
      ]
    },
    {
      "cell_type": "code",
      "metadata": {
        "id": "J7nie3a8ilEL",
        "colab_type": "code",
        "colab": {}
      },
      "source": [
        "hist.history"
      ],
      "execution_count": null,
      "outputs": []
    },
    {
      "cell_type": "code",
      "metadata": {
        "id": "auuTnHZoiZrL",
        "colab_type": "code",
        "colab": {
          "base_uri": "https://localhost:8080/",
          "height": 167
        },
        "outputId": "dea59cc7-a723-4893-f8f9-039d2d16ac03"
      },
      "source": [
        "import pickle\n",
        "\n",
        "# save:\n",
        "f = open('history.pckl', 'wb')\n",
        "pickle.dump(hist.history, f)\n",
        "f.close()\n",
        "\n",
        "# retrieve:    \n",
        "f = open('history.pckl', 'rb')\n",
        "history = pickle.load(f)\n",
        "f.close()"
      ],
      "execution_count": null,
      "outputs": [
        {
          "output_type": "error",
          "ename": "AttributeError",
          "evalue": "ignored",
          "traceback": [
            "\u001b[0;31m---------------------------------------------------------------------------\u001b[0m",
            "\u001b[0;31mAttributeError\u001b[0m                            Traceback (most recent call last)",
            "\u001b[0;32m<ipython-input-6-6cd13d6a221b>\u001b[0m in \u001b[0;36m<module>\u001b[0;34m()\u001b[0m\n\u001b[0;32m----> 1\u001b[0;31m \u001b[0mhistory\u001b[0m\u001b[0;34m.\u001b[0m\u001b[0mhistory\u001b[0m\u001b[0;34m\u001b[0m\u001b[0;34m\u001b[0m\u001b[0m\n\u001b[0m",
            "\u001b[0;31mAttributeError\u001b[0m: 'Sequential' object has no attribute 'history'"
          ]
        }
      ]
    },
    {
      "cell_type": "code",
      "metadata": {
        "id": "luXWrv5Ggbc-",
        "colab_type": "code",
        "colab": {
          "base_uri": "https://localhost:8080/",
          "height": 238
        },
        "outputId": "94d81204-2107-4091-cc0a-06c9be3ba3b9"
      },
      "source": [
        "plt.plot(history.history['accuracy'])\n",
        "plt.plot(history.history['val_accuracy'])\n",
        "plt.title('model accuracy')\n",
        "plt.ylabel('accuracy')\n",
        "plt.xlabel('epoch')\n",
        "plt.legend(['train', 'val'], loc='upper left')\n",
        "plt.show()\n",
        "plt.savefig('/content/drive/My Drive/a.jpg')"
      ],
      "execution_count": null,
      "outputs": [
        {
          "output_type": "error",
          "ename": "AttributeError",
          "evalue": "ignored",
          "traceback": [
            "\u001b[0;31m---------------------------------------------------------------------------\u001b[0m",
            "\u001b[0;31mAttributeError\u001b[0m                            Traceback (most recent call last)",
            "\u001b[0;32m<ipython-input-5-38c894c7c43f>\u001b[0m in \u001b[0;36m<module>\u001b[0;34m()\u001b[0m\n\u001b[0;32m----> 1\u001b[0;31m \u001b[0mplt\u001b[0m\u001b[0;34m.\u001b[0m\u001b[0mplot\u001b[0m\u001b[0;34m(\u001b[0m\u001b[0mhistory\u001b[0m\u001b[0;34m.\u001b[0m\u001b[0mhistory\u001b[0m\u001b[0;34m[\u001b[0m\u001b[0;34m'accuracy'\u001b[0m\u001b[0;34m]\u001b[0m\u001b[0;34m)\u001b[0m\u001b[0;34m\u001b[0m\u001b[0;34m\u001b[0m\u001b[0m\n\u001b[0m\u001b[1;32m      2\u001b[0m \u001b[0mplt\u001b[0m\u001b[0;34m.\u001b[0m\u001b[0mplot\u001b[0m\u001b[0;34m(\u001b[0m\u001b[0mhistory\u001b[0m\u001b[0;34m.\u001b[0m\u001b[0mhistory\u001b[0m\u001b[0;34m[\u001b[0m\u001b[0;34m'val_accuracy'\u001b[0m\u001b[0;34m]\u001b[0m\u001b[0;34m)\u001b[0m\u001b[0;34m\u001b[0m\u001b[0;34m\u001b[0m\u001b[0m\n\u001b[1;32m      3\u001b[0m \u001b[0mplt\u001b[0m\u001b[0;34m.\u001b[0m\u001b[0mtitle\u001b[0m\u001b[0;34m(\u001b[0m\u001b[0;34m'model accuracy'\u001b[0m\u001b[0;34m)\u001b[0m\u001b[0;34m\u001b[0m\u001b[0;34m\u001b[0m\u001b[0m\n\u001b[1;32m      4\u001b[0m \u001b[0mplt\u001b[0m\u001b[0;34m.\u001b[0m\u001b[0mylabel\u001b[0m\u001b[0;34m(\u001b[0m\u001b[0;34m'accuracy'\u001b[0m\u001b[0;34m)\u001b[0m\u001b[0;34m\u001b[0m\u001b[0;34m\u001b[0m\u001b[0m\n\u001b[1;32m      5\u001b[0m \u001b[0mplt\u001b[0m\u001b[0;34m.\u001b[0m\u001b[0mxlabel\u001b[0m\u001b[0;34m(\u001b[0m\u001b[0;34m'epoch'\u001b[0m\u001b[0;34m)\u001b[0m\u001b[0;34m\u001b[0m\u001b[0;34m\u001b[0m\u001b[0m\n",
            "\u001b[0;31mAttributeError\u001b[0m: 'Sequential' object has no attribute 'history'"
          ]
        }
      ]
    },
    {
      "cell_type": "code",
      "metadata": {
        "id": "vFceWMRugYgg",
        "colab_type": "code",
        "colab": {}
      },
      "source": [
        "plt.plot(history.history['loss'])\n",
        "plt.plot(history.history['val_loss'])\n",
        "plt.title('model loss')\n",
        "plt.ylabel('loss')\n",
        "plt.xlabel('epoch')\n",
        "plt.legend(['train', 'val'], loc='upper left')\n",
        "plt.show()\n",
        "plt.savefig('/content/drive/My Drive/b.jpg')"
      ],
      "execution_count": null,
      "outputs": []
    },
    {
      "cell_type": "code",
      "metadata": {
        "id": "5Ch7eWiUkYrs",
        "colab_type": "code",
        "colab": {
          "base_uri": "https://localhost:8080/",
          "height": 52
        },
        "outputId": "4b9f1c24-f27e-4a8d-f562-42e232584c71"
      },
      "source": [
        "model.evaluate(x_test,y_test)"
      ],
      "execution_count": null,
      "outputs": [
        {
          "output_type": "stream",
          "text": [
            "10000/10000 [==============================] - 3s 311us/step\n"
          ],
          "name": "stdout"
        },
        {
          "output_type": "execute_result",
          "data": {
            "text/plain": [
              "[0.06715115533308126, 0.980400025844574]"
            ]
          },
          "metadata": {
            "tags": []
          },
          "execution_count": 20
        }
      ]
    },
    {
      "cell_type": "code",
      "metadata": {
        "id": "aecOe2HM0bAO",
        "colab_type": "code",
        "colab": {
          "base_uri": "https://localhost:8080/",
          "height": 52
        },
        "outputId": "30ac9e8b-50ce-4c07-a84b-03115396723b"
      },
      "source": [
        "model.evaluate(x_dig,y_dig)"
      ],
      "execution_count": null,
      "outputs": [
        {
          "output_type": "stream",
          "text": [
            "10240/10240 [==============================] - 9s 852us/step\n"
          ],
          "name": "stdout"
        },
        {
          "output_type": "execute_result",
          "data": {
            "text/plain": [
              "[0.718867998213318, 0.861621081829071]"
            ]
          },
          "metadata": {
            "tags": []
          },
          "execution_count": 19
        }
      ]
    },
    {
      "cell_type": "code",
      "metadata": {
        "id": "-7VtfrV2kkFG",
        "colab_type": "code",
        "colab": {}
      },
      "source": [
        "layer_name='dense_1'\n",
        "layer_model=Model(inputs=model.input,outputs=model.get_layer(layer_name).output)"
      ],
      "execution_count": null,
      "outputs": []
    },
    {
      "cell_type": "code",
      "metadata": {
        "id": "uqyJNvhUkkIO",
        "colab_type": "code",
        "colab": {
          "base_uri": "https://localhost:8080/",
          "height": 34
        },
        "outputId": "ea84e3b3-8b5d-47f8-87ff-75e1d9a0bd59"
      },
      "source": [
        "fc=layer_model.predict(x_train)\n",
        "print(fc.shape)"
      ],
      "execution_count": null,
      "outputs": [
        {
          "output_type": "stream",
          "text": [
            "(54000, 1024)\n"
          ],
          "name": "stdout"
        }
      ]
    },
    {
      "cell_type": "code",
      "metadata": {
        "id": "SewnvYRBkkLF",
        "colab_type": "code",
        "colab": {}
      },
      "source": [
        "feature_col=[]\n",
        "for i in range(1024):\n",
        "  feature_col.append(\"f_\"+str(i))"
      ],
      "execution_count": null,
      "outputs": []
    },
    {
      "cell_type": "code",
      "metadata": {
        "id": "_mJuWwoakkQt",
        "colab_type": "code",
        "colab": {}
      },
      "source": [
        "train_features=pd.DataFrame(data=fc,columns=feature_col)\n",
        "feature_col=np.array(feature_col)"
      ],
      "execution_count": null,
      "outputs": []
    },
    {
      "cell_type": "code",
      "metadata": {
        "id": "fpSAH0DmkkOe",
        "colab_type": "code",
        "colab": {}
      },
      "source": [
        "y_train1=np.argmax(y_train,axis=1)\n",
        "y_test1=np.argmax(y_test,axis=1)\n",
        "y_dig1=np.argmax(y_dig,axis=1)"
      ],
      "execution_count": null,
      "outputs": []
    },
    {
      "cell_type": "code",
      "metadata": {
        "id": "voY84L7PrTUH",
        "colab_type": "code",
        "colab": {
          "base_uri": "https://localhost:8080/",
          "height": 70
        },
        "outputId": "398cb21d-8c3a-434c-e62e-457fe039e3cf"
      },
      "source": [
        "print(y_train1.shape)\n",
        "print(y_test1.shape)\n",
        "print(y_dig1.shape)"
      ],
      "execution_count": null,
      "outputs": [
        {
          "output_type": "stream",
          "text": [
            "(54000,)\n",
            "(10000,)\n",
            "(10240,)\n"
          ],
          "name": "stdout"
        }
      ]
    },
    {
      "cell_type": "code",
      "metadata": {
        "id": "HV4jXaVmrYy9",
        "colab_type": "code",
        "colab": {
          "base_uri": "https://localhost:8080/",
          "height": 52
        },
        "outputId": "e2b06b8a-a4be-4da9-809c-a6acb0e30bdd"
      },
      "source": [
        "print(y_train1[0])\n",
        "print(y_train[0])"
      ],
      "execution_count": null,
      "outputs": [
        {
          "output_type": "stream",
          "text": [
            "0\n",
            "[1. 0. 0. 0. 0. 0. 0. 0. 0. 0.]\n"
          ],
          "name": "stdout"
        }
      ]
    },
    {
      "cell_type": "code",
      "metadata": {
        "id": "yxFPYBszkY1B",
        "colab_type": "code",
        "colab": {
          "base_uri": "https://localhost:8080/",
          "height": 87
        },
        "outputId": "cf953cf0-6703-4936-f5aa-3f456074b4cc"
      },
      "source": [
        "from sklearn.svm import SVC\n",
        "clf=SVC(degree=4,C=2.5,gamma='auto',kernel='rbf',decision_function_shape='ovo')\n",
        "clf.fit(train_features,y_train1)"
      ],
      "execution_count": null,
      "outputs": [
        {
          "output_type": "execute_result",
          "data": {
            "text/plain": [
              "SVC(C=2.5, break_ties=False, cache_size=200, class_weight=None, coef0=0.0,\n",
              "    decision_function_shape='ovo', degree=4, gamma='auto', kernel='rbf',\n",
              "    max_iter=-1, probability=False, random_state=None, shrinking=True,\n",
              "    tol=0.001, verbose=False)"
            ]
          },
          "metadata": {
            "tags": []
          },
          "execution_count": 18
        }
      ]
    },
    {
      "cell_type": "code",
      "metadata": {
        "id": "9Mo1B-YHnxiZ",
        "colab_type": "code",
        "colab": {}
      },
      "source": [
        "testfeatures=[]\n",
        "testfeatures.append(layer_model.predict(x_test))#change to x_test for test\n",
        "testfeatures=np.array(testfeatures) "
      ],
      "execution_count": null,
      "outputs": []
    },
    {
      "cell_type": "code",
      "metadata": {
        "id": "BI00NxwOnxlr",
        "colab_type": "code",
        "colab": {
          "base_uri": "https://localhost:8080/",
          "height": 34
        },
        "outputId": "22f58dd0-0d6f-4d5f-b4a8-653769f041cc"
      },
      "source": [
        "testfeatures=np.squeeze(testfeatures,axis=0)\n",
        "testfeatures.shape"
      ],
      "execution_count": null,
      "outputs": [
        {
          "output_type": "execute_result",
          "data": {
            "text/plain": [
              "(10000, 1024)"
            ]
          },
          "metadata": {
            "tags": []
          },
          "execution_count": 20
        }
      ]
    },
    {
      "cell_type": "code",
      "metadata": {
        "id": "eYoQUwmOnxoh",
        "colab_type": "code",
        "colab": {}
      },
      "source": [
        "test_features=pd.DataFrame(data=testfeatures,columns=feature_col)\n",
        "feature_col=np.array(feature_col)"
      ],
      "execution_count": null,
      "outputs": []
    },
    {
      "cell_type": "code",
      "metadata": {
        "id": "JyDM71dVn3Rt",
        "colab_type": "code",
        "colab": {}
      },
      "source": [
        "pred=clf.predict(test_features)"
      ],
      "execution_count": null,
      "outputs": []
    },
    {
      "cell_type": "code",
      "metadata": {
        "id": "c390Ors1n3U2",
        "colab_type": "code",
        "colab": {}
      },
      "source": [
        "acc=clf.score(test_features,y_test1)"
      ],
      "execution_count": null,
      "outputs": []
    },
    {
      "cell_type": "code",
      "metadata": {
        "id": "Wly2W2BKn3XU",
        "colab_type": "code",
        "colab": {
          "base_uri": "https://localhost:8080/",
          "height": 34
        },
        "outputId": "2b0e3b9c-eb2d-41f0-9c19-2377c7894ac4"
      },
      "source": [
        "print(acc)"
      ],
      "execution_count": null,
      "outputs": [
        {
          "output_type": "stream",
          "text": [
            "0.9783\n"
          ],
          "name": "stdout"
        }
      ]
    },
    {
      "cell_type": "code",
      "metadata": {
        "id": "A1nuiE056Ubw",
        "colab_type": "code",
        "colab": {
          "base_uri": "https://localhost:8080/",
          "height": 70
        },
        "outputId": "afcfaca0-f6b7-4a17-def5-577cdee77d12"
      },
      "source": [
        "from sklearn.neighbors import KNeighborsClassifier\n",
        "k=KNeighborsClassifier(n_neighbors=30,p=4)\n",
        "k.fit(train_features,y_train1)"
      ],
      "execution_count": null,
      "outputs": [
        {
          "output_type": "execute_result",
          "data": {
            "text/plain": [
              "KNeighborsClassifier(algorithm='auto', leaf_size=30, metric='minkowski',\n",
              "                     metric_params=None, n_jobs=None, n_neighbors=30, p=4,\n",
              "                     weights='uniform')"
            ]
          },
          "metadata": {
            "tags": []
          },
          "execution_count": 26
        }
      ]
    },
    {
      "cell_type": "code",
      "metadata": {
        "id": "54Qz69Af6Ujl",
        "colab_type": "code",
        "colab": {}
      },
      "source": [
        "p=k.predict(test_features)"
      ],
      "execution_count": null,
      "outputs": []
    },
    {
      "cell_type": "code",
      "metadata": {
        "id": "STGrgt_t6Uxn",
        "colab_type": "code",
        "colab": {
          "base_uri": "https://localhost:8080/",
          "height": 34
        },
        "outputId": "1b5cc3ac-b9f8-434b-8a2e-613d8a42181a"
      },
      "source": [
        "accuracy=accuracy_score(y_test1,p)\n",
        "print(accuracy)"
      ],
      "execution_count": null,
      "outputs": [
        {
          "output_type": "stream",
          "text": [
            "0.978\n"
          ],
          "name": "stdout"
        }
      ]
    },
    {
      "cell_type": "code",
      "metadata": {
        "id": "T4woK5tM6UhK",
        "colab_type": "code",
        "colab": {
          "base_uri": "https://localhost:8080/",
          "height": 158
        },
        "outputId": "22a8e134-01a1-413c-84b0-b812425c0fbe"
      },
      "source": [
        "from sklearn.ensemble import RandomForestClassifier\n",
        "rf=RandomForestClassifier(n_estimators=500,min_samples_split=8,max_features=8)\n",
        "rf.fit(train_features,y_train)"
      ],
      "execution_count": null,
      "outputs": [
        {
          "output_type": "execute_result",
          "data": {
            "text/plain": [
              "RandomForestClassifier(bootstrap=True, ccp_alpha=0.0, class_weight=None,\n",
              "                       criterion='gini', max_depth=None, max_features=8,\n",
              "                       max_leaf_nodes=None, max_samples=None,\n",
              "                       min_impurity_decrease=0.0, min_impurity_split=None,\n",
              "                       min_samples_leaf=1, min_samples_split=8,\n",
              "                       min_weight_fraction_leaf=0.0, n_estimators=500,\n",
              "                       n_jobs=None, oob_score=False, random_state=None,\n",
              "                       verbose=0, warm_start=False)"
            ]
          },
          "metadata": {
            "tags": []
          },
          "execution_count": 30
        }
      ]
    },
    {
      "cell_type": "code",
      "metadata": {
        "id": "WLFyawwJ6Ufh",
        "colab_type": "code",
        "colab": {
          "base_uri": "https://localhost:8080/",
          "height": 34
        },
        "outputId": "116b127a-1f8d-4004-fb31-2158dbdedeb0"
      },
      "source": [
        "pr=rf.score(test_features,y_test)\n",
        "print(pr)"
      ],
      "execution_count": null,
      "outputs": [
        {
          "output_type": "stream",
          "text": [
            "0.9726\n"
          ],
          "name": "stdout"
        }
      ]
    },
    {
      "cell_type": "code",
      "metadata": {
        "id": "AnTxVEgBjq42",
        "colab_type": "code",
        "colab": {
          "base_uri": "https://localhost:8080/",
          "height": 318
        },
        "outputId": "cc4d48b2-bf35-4174-d2c2-509fe6905681"
      },
      "source": [
        "labels = list(map(lambda x: 'C' + str(x), list(range(0,10)))) # change this accordingly for vowels\n",
        "from sklearn.metrics import classification_report\n",
        "print(classification_report(y_test1, pred, target_names=labels))"
      ],
      "execution_count": null,
      "outputs": [
        {
          "output_type": "stream",
          "text": [
            "              precision    recall  f1-score   support\n",
            "\n",
            "          C0       0.99      0.95      0.97      1000\n",
            "          C1       0.95      0.99      0.97      1000\n",
            "          C2       1.00      1.00      1.00      1000\n",
            "          C3       0.99      0.99      0.99      1000\n",
            "          C4       0.95      1.00      0.97      1000\n",
            "          C5       1.00      0.96      0.98      1000\n",
            "          C6       0.98      0.95      0.97      1000\n",
            "          C7       0.98      0.96      0.97      1000\n",
            "          C8       0.99      1.00      1.00      1000\n",
            "          C9       0.96      0.99      0.98      1000\n",
            "\n",
            "    accuracy                           0.98     10000\n",
            "   macro avg       0.98      0.98      0.98     10000\n",
            "weighted avg       0.98      0.98      0.98     10000\n",
            "\n"
          ],
          "name": "stdout"
        }
      ]
    },
    {
      "cell_type": "code",
      "metadata": {
        "id": "mL8VIAhWjqaQ",
        "colab_type": "code",
        "colab": {
          "base_uri": "https://localhost:8080/",
          "height": 1000
        },
        "outputId": "6de1efe0-34fb-46f0-808a-1949b2a3817a"
      },
      "source": [
        "def show_values(pc, fmt=\"%.2f\", **kw):\n",
        "    '''\n",
        "    Heatmap with text in each cell with matplotlib's pyplot\n",
        "    Source: https://stackoverflow.com/a/25074150/395857 \n",
        "    By HYRY\n",
        "    '''\n",
        "    from itertools import izip\n",
        "    pc.update_scalarmappable()\n",
        "    ax = pc.get_axes()\n",
        "    #ax = pc.axes# FOR LATEST MATPLOTLIB\n",
        "    #Use zip BELOW IN PYTHON 3\n",
        "    for p, color, value in izip(pc.get_paths(), pc.get_facecolors(), pc.get_array()):\n",
        "        x, y = p.vertices[:-2, :].mean(0)\n",
        "        if np.all(color[:3] > 0.5):\n",
        "            color = (0.0, 0.0, 0.0)\n",
        "        else:\n",
        "            color = (1.0, 1.0, 1.0)\n",
        "        ax.text(x, y, fmt % value, ha=\"center\", va=\"center\", color=color, **kw)\n",
        "\n",
        "\n",
        "def cm2inch(*tupl):\n",
        "    '''\n",
        "    Specify figure size in centimeter in matplotlib\n",
        "    Source: https://stackoverflow.com/a/22787457/395857\n",
        "    By gns-ank\n",
        "    '''\n",
        "    inch = 2.54\n",
        "    if type(tupl[0]) == tuple:\n",
        "        return tuple(i/inch for i in tupl[0])\n",
        "    else:\n",
        "        return tuple(i/inch for i in tupl)\n",
        "\n",
        "\n",
        "def heatmap(AUC, title, xlabel, ylabel, xticklabels, yticklabels, figure_width=40, figure_height=20, correct_orientation=False, cmap='RdBu'):\n",
        "    '''\n",
        "    Inspired by:\n",
        "    - https://stackoverflow.com/a/16124677/395857 \n",
        "    - https://stackoverflow.com/a/25074150/395857\n",
        "    '''\n",
        "\n",
        "    # Plot it out\n",
        "    fig, ax = plt.subplots()    \n",
        "    #c = ax.pcolor(AUC, edgecolors='k', linestyle= 'dashed', linewidths=0.2, cmap='RdBu', vmin=0.0, vmax=1.0)\n",
        "    c = ax.pcolor(AUC, edgecolors='k', linestyle= 'dashed', linewidths=0.2, cmap=cmap)\n",
        "\n",
        "    # put the major ticks at the middle of each cell\n",
        "    ax.set_yticks(np.arange(AUC.shape[0]) + 0.5, minor=False)\n",
        "    ax.set_xticks(np.arange(AUC.shape[1]) + 0.5, minor=False)\n",
        "\n",
        "    # set tick labels\n",
        "    #ax.set_xticklabels(np.arange(1,AUC.shape[1]+1), minor=False)\n",
        "    ax.set_xticklabels(xticklabels, minor=False)\n",
        "    ax.set_yticklabels(yticklabels, minor=False)\n",
        "\n",
        "    # set title and x/y labels\n",
        "    plt.title(title)\n",
        "    plt.xlabel(xlabel)\n",
        "    plt.ylabel(ylabel)      \n",
        "\n",
        "    # Remove last blank column\n",
        "    plt.xlim( (0, AUC.shape[1]) )\n",
        "\n",
        "    # Turn off all the ticks\n",
        "    ax = plt.gca()    \n",
        "    for t in ax.xaxis.get_major_ticks():\n",
        "        t.tick1On = False\n",
        "        t.tick2On = False\n",
        "    for t in ax.yaxis.get_major_ticks():\n",
        "        t.tick1On = False\n",
        "        t.tick2On = False\n",
        "\n",
        "    # Add color bar\n",
        "    plt.colorbar(c)\n",
        "\n",
        "    # Add text in each cell \n",
        "    show_values(c)\n",
        "\n",
        "    # Proper orientation (origin at the top left instead of bottom left)\n",
        "    if correct_orientation:\n",
        "        ax.invert_yaxis()\n",
        "        ax.xaxis.tick_top()       \n",
        "\n",
        "    # resize \n",
        "    fig = plt.gcf()\n",
        "    #fig.set_size_inches(cm2inch(40, 20))\n",
        "    #fig.set_size_inches(cm2inch(40*4, 20*4))\n",
        "    fig.set_size_inches(cm2inch(figure_width, figure_height))\n",
        "\n",
        "\n",
        "\n",
        "def plot_classification_report(classification_report, title='Classification report ', cmap='RdBu'):\n",
        "    '''\n",
        "    Plot scikit-learn classification report.\n",
        "    Extension based on https://stackoverflow.com/a/31689645/395857 \n",
        "    '''\n",
        "    lines = classification_report.split('\\n')\n",
        "\n",
        "    classes = []\n",
        "    plotMat = []\n",
        "    support = []\n",
        "    class_names = []\n",
        "    for line in lines[2 : (len(lines) - 2)]:\n",
        "        t = line.strip().split()\n",
        "        if len(t) < 2: continue\n",
        "        classes.append(t[0])\n",
        "        v = [float(x) for x in t[1: len(t) - 1]]\n",
        "        support.append(int(t[-1]))\n",
        "        class_names.append(t[0])\n",
        "        print(v)\n",
        "        plotMat.append(v)\n",
        "\n",
        "    print('plotMat: {0}'.format(plotMat))\n",
        "    print('support: {0}'.format(support))\n",
        "\n",
        "    xlabel = 'Metrics'\n",
        "    ylabel = 'Classes'\n",
        "    xticklabels = ['Precision', 'Recall', 'F1-score']\n",
        "    yticklabels = ['{0} ({1})'.format(class_names[idx], sup) for idx, sup  in enumerate(support)]\n",
        "    figure_width = 25\n",
        "    figure_height = len(class_names) + 7\n",
        "    correct_orientation = False\n",
        "    heatmap(np.array(plotMat), title, xlabel, ylabel, xticklabels, yticklabels, figure_width, figure_height, correct_orientation, cmap=cmap)\n",
        "\n",
        "\n",
        "def main():\n",
        "    sampleClassificationReport = \"\"\"             precision    recall  f1-score   support\n",
        "\n",
        "          Acacia       0.62      1.00      0.76        66\n",
        "          Blossom       0.93      0.93      0.93        40\n",
        "          Camellia       0.59      0.97      0.73        67\n",
        "          Daisy       0.47      0.92      0.62       272\n",
        "          Echium       1.00      0.16      0.28       413\n",
        "\n",
        "        avg / total       0.77      0.57      0.49       858\"\"\"\n",
        "\n",
        "\n",
        "    plot_classification_report(sampleClassificationReport)\n",
        "    plt.savefig('test_plot_classif_report.png', dpi=200, format='png', bbox_inches='tight')\n",
        "    plt.close()\n",
        "\n",
        "if __name__ == \"__main__\":\n",
        "    main()\n",
        "    #cProfile.run('main()') # if you want to do some profiling"
      ],
      "execution_count": null,
      "outputs": [
        {
          "output_type": "stream",
          "text": [
            "[0.62, 1.0, 0.76]\n",
            "[0.93, 0.93, 0.93]\n",
            "[0.59, 0.97, 0.73]\n",
            "[0.47, 0.92, 0.62]\n",
            "[1.0, 0.16, 0.28]\n",
            "plotMat: [[0.62, 1.0, 0.76], [0.93, 0.93, 0.93], [0.59, 0.97, 0.73], [0.47, 0.92, 0.62], [1.0, 0.16, 0.28]]\n",
            "support: [66, 40, 67, 272, 413]\n"
          ],
          "name": "stdout"
        },
        {
          "output_type": "stream",
          "text": [
            "/usr/local/lib/python3.6/dist-packages/ipykernel_launcher.py:66: MatplotlibDeprecationWarning: \n",
            "The tick1On function was deprecated in Matplotlib 3.1 and will be removed in 3.3. Use Tick.tick1line.set_visible instead.\n",
            "/usr/local/lib/python3.6/dist-packages/ipykernel_launcher.py:67: MatplotlibDeprecationWarning: \n",
            "The tick2On function was deprecated in Matplotlib 3.1 and will be removed in 3.3. Use Tick.tick2line.set_visible instead.\n",
            "/usr/local/lib/python3.6/dist-packages/ipykernel_launcher.py:69: MatplotlibDeprecationWarning: \n",
            "The tick1On function was deprecated in Matplotlib 3.1 and will be removed in 3.3. Use Tick.tick1line.set_visible instead.\n",
            "/usr/local/lib/python3.6/dist-packages/ipykernel_launcher.py:70: MatplotlibDeprecationWarning: \n",
            "The tick2On function was deprecated in Matplotlib 3.1 and will be removed in 3.3. Use Tick.tick2line.set_visible instead.\n"
          ],
          "name": "stderr"
        },
        {
          "output_type": "error",
          "ename": "ImportError",
          "evalue": "ignored",
          "traceback": [
            "\u001b[0;31m---------------------------------------------------------------------------\u001b[0m",
            "\u001b[0;31mImportError\u001b[0m                               Traceback (most recent call last)",
            "\u001b[0;32m<ipython-input-33-7e76edbf678d>\u001b[0m in \u001b[0;36m<module>\u001b[0;34m()\u001b[0m\n\u001b[1;32m    140\u001b[0m \u001b[0;34m\u001b[0m\u001b[0m\n\u001b[1;32m    141\u001b[0m \u001b[0;32mif\u001b[0m \u001b[0m__name__\u001b[0m \u001b[0;34m==\u001b[0m \u001b[0;34m\"__main__\"\u001b[0m\u001b[0;34m:\u001b[0m\u001b[0;34m\u001b[0m\u001b[0;34m\u001b[0m\u001b[0m\n\u001b[0;32m--> 142\u001b[0;31m     \u001b[0mmain\u001b[0m\u001b[0;34m(\u001b[0m\u001b[0;34m)\u001b[0m\u001b[0;34m\u001b[0m\u001b[0;34m\u001b[0m\u001b[0m\n\u001b[0m\u001b[1;32m    143\u001b[0m     \u001b[0;31m#cProfile.run('main()') # if you want to do some profiling\u001b[0m\u001b[0;34m\u001b[0m\u001b[0;34m\u001b[0m\u001b[0;34m\u001b[0m\u001b[0m\n",
            "\u001b[0;32m<ipython-input-33-7e76edbf678d>\u001b[0m in \u001b[0;36mmain\u001b[0;34m()\u001b[0m\n\u001b[1;32m    135\u001b[0m \u001b[0;34m\u001b[0m\u001b[0m\n\u001b[1;32m    136\u001b[0m \u001b[0;34m\u001b[0m\u001b[0m\n\u001b[0;32m--> 137\u001b[0;31m     \u001b[0mplot_classification_report\u001b[0m\u001b[0;34m(\u001b[0m\u001b[0msampleClassificationReport\u001b[0m\u001b[0;34m)\u001b[0m\u001b[0;34m\u001b[0m\u001b[0;34m\u001b[0m\u001b[0m\n\u001b[0m\u001b[1;32m    138\u001b[0m     \u001b[0mplt\u001b[0m\u001b[0;34m.\u001b[0m\u001b[0msavefig\u001b[0m\u001b[0;34m(\u001b[0m\u001b[0;34m'test_plot_classif_report.png'\u001b[0m\u001b[0;34m,\u001b[0m \u001b[0mdpi\u001b[0m\u001b[0;34m=\u001b[0m\u001b[0;36m200\u001b[0m\u001b[0;34m,\u001b[0m \u001b[0mformat\u001b[0m\u001b[0;34m=\u001b[0m\u001b[0;34m'png'\u001b[0m\u001b[0;34m,\u001b[0m \u001b[0mbbox_inches\u001b[0m\u001b[0;34m=\u001b[0m\u001b[0;34m'tight'\u001b[0m\u001b[0;34m)\u001b[0m\u001b[0;34m\u001b[0m\u001b[0;34m\u001b[0m\u001b[0m\n\u001b[1;32m    139\u001b[0m     \u001b[0mplt\u001b[0m\u001b[0;34m.\u001b[0m\u001b[0mclose\u001b[0m\u001b[0;34m(\u001b[0m\u001b[0;34m)\u001b[0m\u001b[0;34m\u001b[0m\u001b[0;34m\u001b[0m\u001b[0m\n",
            "\u001b[0;32m<ipython-input-33-7e76edbf678d>\u001b[0m in \u001b[0;36mplot_classification_report\u001b[0;34m(classification_report, title, cmap)\u001b[0m\n\u001b[1;32m    120\u001b[0m     \u001b[0mfigure_height\u001b[0m \u001b[0;34m=\u001b[0m \u001b[0mlen\u001b[0m\u001b[0;34m(\u001b[0m\u001b[0mclass_names\u001b[0m\u001b[0;34m)\u001b[0m \u001b[0;34m+\u001b[0m \u001b[0;36m7\u001b[0m\u001b[0;34m\u001b[0m\u001b[0;34m\u001b[0m\u001b[0m\n\u001b[1;32m    121\u001b[0m     \u001b[0mcorrect_orientation\u001b[0m \u001b[0;34m=\u001b[0m \u001b[0;32mFalse\u001b[0m\u001b[0;34m\u001b[0m\u001b[0;34m\u001b[0m\u001b[0m\n\u001b[0;32m--> 122\u001b[0;31m     \u001b[0mheatmap\u001b[0m\u001b[0;34m(\u001b[0m\u001b[0mnp\u001b[0m\u001b[0;34m.\u001b[0m\u001b[0marray\u001b[0m\u001b[0;34m(\u001b[0m\u001b[0mplotMat\u001b[0m\u001b[0;34m)\u001b[0m\u001b[0;34m,\u001b[0m \u001b[0mtitle\u001b[0m\u001b[0;34m,\u001b[0m \u001b[0mxlabel\u001b[0m\u001b[0;34m,\u001b[0m \u001b[0mylabel\u001b[0m\u001b[0;34m,\u001b[0m \u001b[0mxticklabels\u001b[0m\u001b[0;34m,\u001b[0m \u001b[0myticklabels\u001b[0m\u001b[0;34m,\u001b[0m \u001b[0mfigure_width\u001b[0m\u001b[0;34m,\u001b[0m \u001b[0mfigure_height\u001b[0m\u001b[0;34m,\u001b[0m \u001b[0mcorrect_orientation\u001b[0m\u001b[0;34m,\u001b[0m \u001b[0mcmap\u001b[0m\u001b[0;34m=\u001b[0m\u001b[0mcmap\u001b[0m\u001b[0;34m)\u001b[0m\u001b[0;34m\u001b[0m\u001b[0;34m\u001b[0m\u001b[0m\n\u001b[0m\u001b[1;32m    123\u001b[0m \u001b[0;34m\u001b[0m\u001b[0m\n\u001b[1;32m    124\u001b[0m \u001b[0;34m\u001b[0m\u001b[0m\n",
            "\u001b[0;32m<ipython-input-33-7e76edbf678d>\u001b[0m in \u001b[0;36mheatmap\u001b[0;34m(AUC, title, xlabel, ylabel, xticklabels, yticklabels, figure_width, figure_height, correct_orientation, cmap)\u001b[0m\n\u001b[1;32m     74\u001b[0m \u001b[0;34m\u001b[0m\u001b[0m\n\u001b[1;32m     75\u001b[0m     \u001b[0;31m# Add text in each cell\u001b[0m\u001b[0;34m\u001b[0m\u001b[0;34m\u001b[0m\u001b[0;34m\u001b[0m\u001b[0m\n\u001b[0;32m---> 76\u001b[0;31m     \u001b[0mshow_values\u001b[0m\u001b[0;34m(\u001b[0m\u001b[0mc\u001b[0m\u001b[0;34m)\u001b[0m\u001b[0;34m\u001b[0m\u001b[0;34m\u001b[0m\u001b[0m\n\u001b[0m\u001b[1;32m     77\u001b[0m \u001b[0;34m\u001b[0m\u001b[0m\n\u001b[1;32m     78\u001b[0m     \u001b[0;31m# Proper orientation (origin at the top left instead of bottom left)\u001b[0m\u001b[0;34m\u001b[0m\u001b[0;34m\u001b[0m\u001b[0;34m\u001b[0m\u001b[0m\n",
            "\u001b[0;32m<ipython-input-33-7e76edbf678d>\u001b[0m in \u001b[0;36mshow_values\u001b[0;34m(pc, fmt, **kw)\u001b[0m\n\u001b[1;32m      5\u001b[0m     \u001b[0mBy\u001b[0m \u001b[0mHYRY\u001b[0m\u001b[0;34m\u001b[0m\u001b[0;34m\u001b[0m\u001b[0m\n\u001b[1;32m      6\u001b[0m     '''\n\u001b[0;32m----> 7\u001b[0;31m     \u001b[0;32mfrom\u001b[0m \u001b[0mitertools\u001b[0m \u001b[0;32mimport\u001b[0m \u001b[0mizip\u001b[0m\u001b[0;34m\u001b[0m\u001b[0;34m\u001b[0m\u001b[0m\n\u001b[0m\u001b[1;32m      8\u001b[0m     \u001b[0mpc\u001b[0m\u001b[0;34m.\u001b[0m\u001b[0mupdate_scalarmappable\u001b[0m\u001b[0;34m(\u001b[0m\u001b[0;34m)\u001b[0m\u001b[0;34m\u001b[0m\u001b[0;34m\u001b[0m\u001b[0m\n\u001b[1;32m      9\u001b[0m     \u001b[0max\u001b[0m \u001b[0;34m=\u001b[0m \u001b[0mpc\u001b[0m\u001b[0;34m.\u001b[0m\u001b[0mget_axes\u001b[0m\u001b[0;34m(\u001b[0m\u001b[0;34m)\u001b[0m\u001b[0;34m\u001b[0m\u001b[0;34m\u001b[0m\u001b[0m\n",
            "\u001b[0;31mImportError\u001b[0m: cannot import name 'izip'",
            "",
            "\u001b[0;31m---------------------------------------------------------------------------\u001b[0;32m\nNOTE: If your import is failing due to a missing package, you can\nmanually install dependencies using either !pip or !apt.\n\nTo view examples of installing some common dependencies, click the\n\"Open Examples\" button below.\n\u001b[0;31m---------------------------------------------------------------------------\u001b[0m\n"
          ]
        },
        {
          "output_type": "display_data",
          "data": {
            "image/png": "[encoded data removed]",
            "text/plain": [
              "<Figure size 432x288 with 2 Axes>"
            ]
          },
          "metadata": {
            "tags": [],
            "needs_background": "light"
          }
        }
      ]
    }
  ]
}
